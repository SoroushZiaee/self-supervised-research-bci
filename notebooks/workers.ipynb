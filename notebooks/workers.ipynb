{
 "cells": [
  {
   "cell_type": "code",
   "execution_count": null,
   "id": "959ff2ea-3b46-41b5-84c9-d9a757d54213",
   "metadata": {},
   "outputs": [],
   "source": [
    "%config Completer.use_jedi = False\n",
    "%load_ext autoreload\n",
    "# %reload_ext autoreload\n",
    "%autoreload 2\n",
    "%load_ext lab_black"
   ]
  },
  {
   "cell_type": "markdown",
   "id": "f75f97d8-b8a5-42e0-b45a-ae8359312060",
   "metadata": {
    "jp-MarkdownHeadingCollapsed": true,
    "tags": []
   },
   "source": [
    "## Workers"
   ]
  },
  {
   "cell_type": "code",
   "execution_count": null,
   "id": "6bbdc4cb-3579-45a9-b8f6-a4fea2f04a80",
   "metadata": {},
   "outputs": [],
   "source": [
    "import os\n",
    "import mne\n",
    "\n",
    "%matplotlib inline\n",
    "import numpy as np"
   ]
  },
  {
   "cell_type": "code",
   "execution_count": null,
   "id": "439ef297-c685-4c50-886e-c43c09792446",
   "metadata": {},
   "outputs": [],
   "source": [
    "!pip install mne-features"
   ]
  },
  {
   "cell_type": "code",
   "execution_count": null,
   "id": "63317c45-bed3-4e8a-b673-7b9b787cd422",
   "metadata": {},
   "outputs": [],
   "source": [
    "import mne_features as mnf"
   ]
  },
  {
   "cell_type": "code",
   "execution_count": null,
   "id": "918bffca-6c56-4bb8-87c8-67258ca8adc5",
   "metadata": {},
   "outputs": [],
   "source": [
    "data = np.random.normal(0, 20, 256)"
   ]
  },
  {
   "cell_type": "code",
   "execution_count": null,
   "id": "9d10f981-3f60-4bdf-a585-77eec623e49f",
   "metadata": {},
   "outputs": [],
   "source": [
    "mnf.univariate.compute_kurtosis(data)"
   ]
  },
  {
   "cell_type": "code",
   "execution_count": null,
   "id": "716a1a41-130f-4e7d-b3da-c3ab1f0afd76",
   "metadata": {},
   "outputs": [],
   "source": [
    "mnf.univariate.compute_ptp_amp(data)"
   ]
  },
  {
   "cell_type": "code",
   "execution_count": null,
   "id": "2c004716-4f78-413b-a9c2-4305cc0b87d8",
   "metadata": {},
   "outputs": [],
   "source": [
    "mnf.univariate.compute_skewness(data)"
   ]
  },
  {
   "cell_type": "markdown",
   "id": "07494c8e-dfff-4181-b152-da4a6dd88ba1",
   "metadata": {
    "tags": []
   },
   "source": [
    "## Analyze Workers"
   ]
  },
  {
   "cell_type": "code",
   "execution_count": null,
   "id": "e13ba619-bf4f-4ded-a081-6fba8389b9f8",
   "metadata": {},
   "outputs": [],
   "source": [
    "import sys\n",
    "\n",
    "sys.path.insert(0, \"../\")"
   ]
  },
  {
   "cell_type": "code",
   "execution_count": null,
   "id": "0b6baa5c-cb20-4cb9-9bf2-4466f2f50d08",
   "metadata": {},
   "outputs": [],
   "source": [
    "import torch\n",
    "from torch.utils.data import DataLoader\n",
    "from pase_eeg.lit_modules.pase_lit import PaseEEGBCIIV2aDataLit\n",
    "from pase_eeg.data.transforms import ToTensor, ZNorm, Compose\n",
    "from pase_eeg.lit_modules.utils import eeg_electrode_configs\n",
    "from pase_eeg.data.transforms import ToTensor, ZNorm"
   ]
  },
  {
   "cell_type": "code",
   "execution_count": null,
   "id": "c9e2b3ff-8360-4478-8d27-1ce6d1791c13",
   "metadata": {},
   "outputs": [],
   "source": [
    "import matplotlib.pyplot as plt\n",
    "from itertools import product\n",
    "import numpy as np"
   ]
  },
  {
   "cell_type": "code",
   "execution_count": null,
   "id": "4b0c179a-6129-4990-b616-9d097d24a683",
   "metadata": {},
   "outputs": [],
   "source": [
    "dslit = PaseEEGBCIIV2aDataLit(\n",
    "    data_path=\"/data/BCI_Competition_IV/\",\n",
    "    channels_config=\"../configs/eeg_recording_standard/international_10_20_22.py\",\n",
    "    train_patients=[\n",
    "        1,\n",
    "        2,\n",
    "        3,\n",
    "        4,\n",
    "        5,\n",
    "        6,\n",
    "        7,\n",
    "        8,\n",
    "        9,\n",
    "    ],\n",
    "    test_patients=[9],\n",
    "    batch_size=1,\n",
    "    workers_config=\"../configs/pase_base/workers.json\",\n",
    "    transforms=[\n",
    "        {\n",
    "            \"class_path\": \"pase_eeg.data.transforms.ToTensor\",\n",
    "            \"init_args\": {\"device\": \"cpu\"},\n",
    "        },\n",
    "        # {\n",
    "        #     \"class_path\": \"pase_eeg.data.transforms.ZNorm\",\n",
    "        #     \"init_args\": {\"stats\": \"bci_comp_iv2a_stats.pkl\", \"mode\": \"mean-std\"},\n",
    "        # },\n",
    "    ],\n",
    ")\n",
    "dslit.setup()"
   ]
  },
  {
   "cell_type": "code",
   "execution_count": null,
   "id": "e302b06b-4029-4f16-9d14-148fd923fe4a",
   "metadata": {},
   "outputs": [],
   "source": [
    "dloader = dslit.train_dataloader()"
   ]
  },
  {
   "cell_type": "code",
   "execution_count": null,
   "id": "72368e98-b8a8-442d-97ea-a32992e763d5",
   "metadata": {},
   "outputs": [],
   "source": [
    "def draw_2d_plot(shape, plotter, data, num=None):\n",
    "    fig, axs = plt.subplots(*shape, figsize=(15, 15))\n",
    "    for i, idx in enumerate(product(*[list(range(n)) for n in shape])):\n",
    "        if num is not None and i >= num:\n",
    "            break\n",
    "        plotter(axs[idx[0], idx[1]], data[i])\n",
    "\n",
    "\n",
    "# test\n",
    "def plotter(axes, data):\n",
    "    x = list(range(len(data)))\n",
    "    axes.plot(x, data)"
   ]
  },
  {
   "cell_type": "raw",
   "id": "1aeb1d0c-835c-46ec-9e1f-14c50dcf62f3",
   "metadata": {},
   "source": [
    "num = len(a[1][\"psd\"])\n",
    "shape = 2 * [int(np.ceil(np.sqrt(num)))]\n",
    "data = list(map(lambda a: a.squeeze(), a[1][\"psd\"].values()))\n",
    "draw_2d_plot(shape, plotter, data, num)"
   ]
  },
  {
   "cell_type": "code",
   "execution_count": null,
   "id": "a147dd40-2dcc-4b7c-8cc7-a421a74e9f18",
   "metadata": {},
   "outputs": [],
   "source": [
    "def extract_label(dloader, label):\n",
    "    data = {}\n",
    "    # run one epoch of training data to extract z-stats of minions\n",
    "    for bidx, batch in enumerate(dloader, start=1):\n",
    "        if bidx % 100 == 0:\n",
    "            print(\"Bidx: {}/{}\".format(bidx, len(dloader.dataset) / 1))\n",
    "        signal, labels = batch\n",
    "        for k, v in labels[label].items():\n",
    "            if k not in data:\n",
    "                data[k] = []\n",
    "            data[k].append(v.squeeze())\n",
    "\n",
    "    return data"
   ]
  },
  {
   "cell_type": "code",
   "execution_count": null,
   "id": "6cc7dca4-c2e2-402a-ad98-958446faa80d",
   "metadata": {},
   "outputs": [],
   "source": [
    "def dict_stats(data):\n",
    "    stats = {}\n",
    "\n",
    "    data_cat = dict((k, torch.cat(v)) for k, v in data.items())\n",
    "    print(next(iter(data_cat.values())).size())\n",
    "\n",
    "    for k, v in data_cat.items():\n",
    "        v = torch.flatten(v)\n",
    "        # v = torch.clip(v, min=-clip_val , max=clip_val)\n",
    "        stats[k] = {\n",
    "            \"mean\": torch.mean(v, dim=0),\n",
    "            \"std\": torch.std(v, dim=0),\n",
    "            \"min\": torch.min(v, dim=0).values,\n",
    "            \"max\": torch.max(v, dim=0).values,\n",
    "        }\n",
    "\n",
    "    return stats\n",
    "\n",
    "\n",
    "def dict_timeseries_stats(data):\n",
    "    stats = {}\n",
    "\n",
    "    data_cat = dict((k, torch.stack(v)) for k, v in data.items())\n",
    "    print(next(iter(data_cat.values())).size())\n",
    "\n",
    "    for k, v in data_cat.items():\n",
    "        v = torch.flatten(v)\n",
    "        # v = torch.clip(v, min=-clip_val , max=clip_val)\n",
    "        stats[k] = {\n",
    "            \"mean\": torch.mean(v),\n",
    "            \"std\": torch.std(v),\n",
    "            \"min\": torch.min(v),\n",
    "            \"max\": torch.max(v),\n",
    "        }\n",
    "\n",
    "    return stats"
   ]
  },
  {
   "cell_type": "code",
   "execution_count": null,
   "id": "7adfc16d-ea0a-4f94-9e42-e9a986e9e80f",
   "metadata": {},
   "outputs": [],
   "source": [
    "def error_region_plotter(axes, data):\n",
    "    y, std = data\n",
    "    x = np.linspace(0, len(y), len(y))\n",
    "\n",
    "    axes.plot(x, y, \"k-\")\n",
    "    axes.fill_between(x, y - std, y + std)"
   ]
  },
  {
   "cell_type": "markdown",
   "id": "c490f92b-186c-404a-92d2-1aa67c32a239",
   "metadata": {
    "tags": []
   },
   "source": [
    "## PSD Worker"
   ]
  },
  {
   "cell_type": "code",
   "execution_count": null,
   "id": "136bf201-ea5a-4f9f-9b33-42d37c6c6c07",
   "metadata": {
    "tags": []
   },
   "outputs": [],
   "source": [
    "psd_data = extract_label(dloader, \"psd\")"
   ]
  },
  {
   "cell_type": "code",
   "execution_count": null,
   "id": "febed859-f4b6-43cb-8a00-a598cb8b3c9a",
   "metadata": {
    "tags": []
   },
   "outputs": [],
   "source": [
    "stats = dict_stats(psd_data)\n",
    "stats"
   ]
  },
  {
   "cell_type": "code",
   "execution_count": null,
   "id": "d6514d7e-225c-483a-890e-4c026ef93c97",
   "metadata": {},
   "outputs": [],
   "source": [
    "data_stack = dict((k, torch.stack(v)) for k, v in psd_data.items())\n",
    "print(next(iter(data_stack.values())).size())\n",
    "\n",
    "num = len(data_stack)\n",
    "shape = 2 * [int(np.ceil(np.sqrt(num)))]\n",
    "\n",
    "plot_data = list(\n",
    "    map(lambda a: (torch.mean(a, dim=0), torch.std(a, dim=0)), data_stack.values())\n",
    ")\n",
    "draw_2d_plot(shape, error_region_plotter, plot_data, num)"
   ]
  },
  {
   "cell_type": "markdown",
   "id": "fa70bcbc-b907-4a5b-b71d-1f8645a094d9",
   "metadata": {},
   "source": [
    "### Normalize and clip"
   ]
  },
  {
   "cell_type": "code",
   "execution_count": null,
   "id": "7ea871b7-27f8-45cc-a2af-ae8b5aab406a",
   "metadata": {
    "tags": []
   },
   "outputs": [],
   "source": [
    "ts_stats = dict_timeseries_stats(psd_data)\n",
    "ts_stats"
   ]
  },
  {
   "cell_type": "code",
   "execution_count": null,
   "id": "f04ad94f-26bd-4111-ad58-55eb10cb5450",
   "metadata": {},
   "outputs": [],
   "source": [
    "data_stack = dict(\n",
    "    (k, ((torch.stack(v) - ts_stats[k][\"mean\"]) / ts_stats[k][\"std\"])[:, 0:123])\n",
    "    for k, v in psd_data.items()\n",
    ")\n",
    "print(next(iter(data_stack.values())).size())\n",
    "\n",
    "num = len(data_stack)\n",
    "shape = 2 * [int(np.ceil(np.sqrt(num)))]\n",
    "\n",
    "plot_data = list(\n",
    "    map(lambda a: (torch.mean(a, dim=0), torch.std(a, dim=0)), data_stack.values())\n",
    ")\n",
    "draw_2d_plot(shape, error_region_plotter, plot_data, num)"
   ]
  },
  {
   "cell_type": "code",
   "execution_count": null,
   "id": "a4331a4d-6b17-4363-9bbf-1516521922c6",
   "metadata": {},
   "outputs": [],
   "source": [
    "import pickle\n",
    "\n",
    "with open(\"bci_comp_iv2a_psd_stats.pkl\", \"wb\") as stats_f:\n",
    "    pickle.dump(ts_stats, stats_f)"
   ]
  },
  {
   "cell_type": "markdown",
   "id": "09d9fd9b-f66a-4211-932d-db1c41d81acd",
   "metadata": {
    "jp-MarkdownHeadingCollapsed": true,
    "tags": []
   },
   "source": [
    "## WTE Worker"
   ]
  },
  {
   "cell_type": "code",
   "execution_count": null,
   "id": "d30a7018-280b-4218-a92f-f743b61b3dc1",
   "metadata": {
    "tags": []
   },
   "outputs": [],
   "source": [
    "wte_data = extract_label(dloader, \"wte\")"
   ]
  },
  {
   "cell_type": "code",
   "execution_count": null,
   "id": "ef2016ea-78af-46c2-8596-2275a72cdfb5",
   "metadata": {
    "tags": []
   },
   "outputs": [],
   "source": [
    "stats = dict_stats(wte_data)\n",
    "stats"
   ]
  },
  {
   "cell_type": "code",
   "execution_count": null,
   "id": "4692e4e8-ce01-4a45-9296-5517a6c54826",
   "metadata": {},
   "outputs": [],
   "source": [
    "data_stack = dict((k, torch.stack(v)) for k, v in wte_data.items())\n",
    "print(next(iter(data_stack.values())).size())\n",
    "\n",
    "num = len(data_stack)\n",
    "shape = 2 * [int(np.ceil(np.sqrt(num)))]\n",
    "\n",
    "plot_data = list(map(lambda a: (torch.mean(a, dim=0), torch.std(a, dim=0)), data_stack.values()))\n",
    "draw_2d_plot(shape, error_region_plotter, plot_data, num)"
   ]
  },
  {
   "cell_type": "code",
   "execution_count": null,
   "id": "1d80dec6-1e00-466e-b888-d4d1871f455e",
   "metadata": {},
   "outputs": [],
   "source": []
  }
 ],
 "metadata": {
  "kernelspec": {
   "display_name": "Python 3 (ipykernel)",
   "language": "python",
   "name": "python3"
  },
  "language_info": {
   "codemirror_mode": {
    "name": "ipython",
    "version": 3
   },
   "file_extension": ".py",
   "mimetype": "text/x-python",
   "name": "python",
   "nbconvert_exporter": "python",
   "pygments_lexer": "ipython3",
   "version": "3.8.10"
  }
 },
 "nbformat": 4,
 "nbformat_minor": 5
}
