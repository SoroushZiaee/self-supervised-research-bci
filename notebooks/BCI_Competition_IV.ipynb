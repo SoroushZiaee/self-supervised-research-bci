{
 "cells": [
  {
   "cell_type": "code",
   "execution_count": 1,
   "id": "388bd52b-1af9-401f-9fa2-f6961187d6cc",
   "metadata": {},
   "outputs": [],
   "source": [
    "%config Completer.use_jedi = False\n",
    "%load_ext autoreload\n",
    "# %reload_ext autoreload\n",
    "%autoreload 2\n",
    "%load_ext lab_black"
   ]
  },
  {
   "cell_type": "code",
   "execution_count": 20,
   "id": "b259a7df-b1dd-46d5-a0b1-6d8f375a37e6",
   "metadata": {},
   "outputs": [],
   "source": [
    "import os\n",
    "import mne\n",
    "\n",
    "%matplotlib inline\n",
    "import numpy as np"
   ]
  },
  {
   "cell_type": "code",
   "execution_count": 56,
   "id": "90f5008c-1bf2-4651-847e-f3036e23b574",
   "metadata": {},
   "outputs": [],
   "source": [
    "base_dir = \"/data/BCI_Competition_IV/\"\n",
    "files = [\n",
    "    \"A02T.gdf\",\n",
    "    \"A05T.gdf\",\n",
    "    \"A08T.gdf\",\n",
    "    \"A01T.gdf\",\n",
    "    \"A04T.gdf\",\n",
    "    \"A07T.gdf\",\n",
    "    \"A03T.gdf\",\n",
    "    \"A06T.gdf\",\n",
    "    \"A09T.gdf\",\n",
    "]\n",
    "\n",
    "# files = [\n",
    "#     \"A01E.gdf\",\n",
    "#     \"A02T.gdf\",\n",
    "#     \"A04E.gdf\",\n",
    "#     \"A05T.gdf\",\n",
    "#     \"A07E.gdf\",\n",
    "#     \"A08T.gdf\",\n",
    "#     \"A01T.gdf\",\n",
    "#     \"A03E.gdf\",\n",
    "#     \"A04T.gdf\",\n",
    "#     \"A06E.gdf\",\n",
    "#     \"A07T.gdf\",\n",
    "#     \"A09E.gdf\",\n",
    "#     \"A02E.gdf\",\n",
    "#     \"A03T.gdf\",\n",
    "#     \"A05E.gdf\",\n",
    "#     \"A06T.gdf\",\n",
    "#     \"A08E.gdf\",\n",
    "#     \"A09T.gdf\",\n",
    "# ]"
   ]
  },
  {
   "cell_type": "markdown",
   "id": "776cc8cb-18c2-4359-9f2b-b402279aa348",
   "metadata": {},
   "source": [
    "### Data converter"
   ]
  },
  {
   "cell_type": "code",
   "execution_count": 63,
   "id": "2e6fdec4-04fb-4aa5-88a3-a8559d656a85",
   "metadata": {},
   "outputs": [],
   "source": [
    "def extract_labels_and_data_in_epochs(filename):\n",
    "    raw = mne.io.read_raw_gdf(filename)\n",
    "\n",
    "    ## Events and Epoch extraction ##\n",
    "    # Find the events time positions\n",
    "    events, e_id_mapping = mne.events_from_annotations(raw)\n",
    "\n",
    "    # Pre-load the data\n",
    "\n",
    "    raw.load_data()\n",
    "\n",
    "    # Filter the raw signal with a band pass filter in 7-35 Hz\n",
    "\n",
    "    # raw.filter(7.0, 35.0, fir_design=\"firwin\")\n",
    "\n",
    "    # Remove the EOG channels and pick only desired EEG channels\n",
    "\n",
    "    raw.info[\"bads\"] += [\"EOG-left\", \"EOG-central\", \"EOG-right\"]\n",
    "\n",
    "    picks = mne.pick_types(\n",
    "        raw.info, meg=False, eeg=True, eog=False, stim=False, exclude=\"bads\"\n",
    "    )\n",
    "\n",
    "    # Extracts epochs of 3s time period from the datset into 288 events for all 4 classes\n",
    "\n",
    "    tmin, tmax = 1.0, 4.0\n",
    "    # left_hand = 769,right_hand = 770,foot = 771,tongue = 772\n",
    "    event_id = dict(\n",
    "        {\n",
    "            \"769\": e_id_mapping[\"769\"],\n",
    "            \"770\": e_id_mapping[\"770\"],\n",
    "            \"771\": e_id_mapping[\"771\"],\n",
    "            \"772\": e_id_mapping[\"772\"],\n",
    "        }\n",
    "    )\n",
    "\n",
    "    epochs = mne.Epochs(\n",
    "        raw,\n",
    "        events,\n",
    "        event_id,\n",
    "        tmin,\n",
    "        tmax,\n",
    "        proj=True,\n",
    "        picks=picks,\n",
    "        baseline=None,\n",
    "        preload=True,\n",
    "        event_repeated=\"drop\",\n",
    "    )\n",
    "    #################################\n",
    "    # Getting labels and changing labels from 7,8,9,10 -> 1,2,3,4\n",
    "    labels = epochs.events[:, -1] - np.min(epochs.events[:, -1]) + 1\n",
    "    # print(epochs.events)\n",
    "    data = epochs.get_data()\n",
    "\n",
    "    return data, labels"
   ]
  },
  {
   "cell_type": "code",
   "execution_count": null,
   "id": "0e3feab8-392d-4fff-a5a4-d22dd9c3a828",
   "metadata": {
    "scrolled": true,
    "tags": []
   },
   "outputs": [],
   "source": [
    "with open(os.path.join(base_dir, \"metadata.csv\"), \"w\") as f:\n",
    "    f.write(\"file_name,patient,split,label\\n\")\n",
    "    for file in files:\n",
    "        patient = file[:3]\n",
    "        split = file[3]\n",
    "        print(patient, split)\n",
    "\n",
    "        data, labels = extract_labels_and_data_in_epochs(os.path.join(base_dir, file))\n",
    "\n",
    "        for i in range(data.shape[0]):\n",
    "            file_name = f\"{patient}_{split}_{labels[i]}_{i}.npy\"\n",
    "            f.write(\"{},{},{},{}\\n\".format(file_name, patient, split, labels[i]))\n",
    "\n",
    "            folder = \"train\" if split == \"T\" else \"test\"\n",
    "            np.save(os.path.join(base_dir, folder + \"/\" + file_name), data[i, :, :])"
   ]
  },
  {
   "cell_type": "markdown",
   "id": "bbc9255f-7e77-4859-ad4a-3d14c43c4e7e",
   "metadata": {},
   "source": [
    "### see the labels"
   ]
  },
  {
   "cell_type": "code",
   "execution_count": null,
   "id": "12fb526d-052b-47b5-bfdd-b25004a6e667",
   "metadata": {},
   "outputs": [],
   "source": [
    "raw = mne.io.read_raw_gdf(os.path.join(base_dir, files[0]))"
   ]
  },
  {
   "cell_type": "code",
   "execution_count": null,
   "id": "4c757338-5904-496b-88e3-2980615b4ec3",
   "metadata": {
    "tags": []
   },
   "outputs": [],
   "source": [
    "raw.__dict__"
   ]
  },
  {
   "cell_type": "code",
   "execution_count": null,
   "id": "276a1a1e-8889-4325-8b6c-4ce3dc4511d8",
   "metadata": {},
   "outputs": [],
   "source": [
    "events, s = mne.events_from_annotations(raw)"
   ]
  },
  {
   "cell_type": "code",
   "execution_count": null,
   "id": "d5137d68-7fcb-4b1c-a0fb-f2c0366b4832",
   "metadata": {},
   "outputs": [],
   "source": [
    "s"
   ]
  },
  {
   "cell_type": "code",
   "execution_count": null,
   "id": "607dab01-fac2-4d71-bc8c-3808a4ee3b1f",
   "metadata": {},
   "outputs": [],
   "source": [
    "events"
   ]
  },
  {
   "cell_type": "code",
   "execution_count": null,
   "id": "1f87ba89-8427-40ba-8fdc-4c8b4d8903e1",
   "metadata": {},
   "outputs": [],
   "source": [
    "raw.ch_names"
   ]
  }
 ],
 "metadata": {
  "kernelspec": {
   "display_name": "Python 3 (ipykernel)",
   "language": "python",
   "name": "python3"
  },
  "language_info": {
   "codemirror_mode": {
    "name": "ipython",
    "version": 3
   },
   "file_extension": ".py",
   "mimetype": "text/x-python",
   "name": "python",
   "nbconvert_exporter": "python",
   "pygments_lexer": "ipython3",
   "version": "3.8.10"
  }
 },
 "nbformat": 4,
 "nbformat_minor": 5
}
